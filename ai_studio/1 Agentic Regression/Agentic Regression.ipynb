{
 "cells": [
  {
   "cell_type": "markdown",
   "metadata": {},
   "source": [
    "# Agentic Regression"
   ]
  },
  {
   "cell_type": "markdown",
   "metadata": {},
   "source": [
    "The point of this exercise was to see if agents can generate and run machine learning code based on a simple setup prompt and input task. "
   ]
  },
  {
   "cell_type": "markdown",
   "metadata": {},
   "source": [
    "## Setup"
   ]
  },
  {
   "cell_type": "markdown",
   "metadata": {},
   "source": [
    "### Import libraries\n"
   ]
  },
  {
   "cell_type": "code",
   "execution_count": 18,
   "metadata": {},
   "outputs": [],
   "source": [
    "import os\n",
    "from pathlib import Path\n",
    "import pprint\n",
    "\n",
    "from autogen import AssistantAgent, UserProxyAgent, GroupChatManager, GroupChat,ConversableAgent\n",
    "from autogen.coding import DockerCommandLineCodeExecutor, LocalCommandLineCodeExecutor\n",
    "\n"
   ]
  },
  {
   "cell_type": "markdown",
   "metadata": {},
   "source": [
    "### Environment Setup"
   ]
  },
  {
   "cell_type": "code",
   "execution_count": 19,
   "metadata": {},
   "outputs": [],
   "source": [
    "# Temporary directory for the agents to store generate code\n",
    "\n",
    "work_dir = Path(\"generated_code\")\n",
    "work_dir.mkdir(exist_ok=True)"
   ]
  },
  {
   "cell_type": "markdown",
   "metadata": {},
   "source": [
    "#### LLM Configuration: We are using Llama3 in this case"
   ]
  },
  {
   "cell_type": "code",
   "execution_count": 20,
   "metadata": {},
   "outputs": [],
   "source": [
    "model = \"llama3:latest\"\n",
    "termination_msg = \"TERMINATE\"\n",
    "\n",
    "config_list = [\n",
    "    {\n",
    "        \"model\": model,\n",
    "        \"base_url\": \"http://localhost:11434/v1\",\n",
    "        \"api_key\": \"ollama\", # required, but not used,\n",
    "    }\n",
    "]\n",
    "\n",
    "agent_config = {\"config_list\": config_list, \"cache_seed\": 42}\n",
    "\n"
   ]
  },
  {
   "cell_type": "markdown",
   "metadata": {},
   "source": [
    "#### Prompts and Agent definition"
   ]
  },
  {
   "cell_type": "code",
   "execution_count": 21,
   "metadata": {},
   "outputs": [],
   "source": [
    "local_code_executor = LocalCommandLineCodeExecutor(\n",
    "    work_dir=work_dir\n",
    ")\n",
    "\n",
    "code_executor_agent = AssistantAgent(\n",
    "    name=\"code_executor_agent\",\n",
    "    llm_config=False,\n",
    "    code_execution_config={\"executor\": local_code_executor}, # change to docker_code_executor to use docker\n",
    "    human_input_mode=\"NEVER\",\n",
    ")"
   ]
  },
  {
   "cell_type": "code",
   "execution_count": 22,
   "metadata": {},
   "outputs": [],
   "source": [
    "# Agent that will initiate the conversation and run the code\n",
    "\n",
    "executor = UserProxyAgent(\n",
    "    name=\"Executor\",\n",
    "    system_message=\"Executor. Execute the code written by the engineer.\",\n",
    "    human_input_mode=\"NEVER\",\n",
    "    code_execution_config={ \"work_dir\": work_dir},\n",
    ")"
   ]
  },
  {
   "cell_type": "code",
   "execution_count": 23,
   "metadata": {},
   "outputs": [],
   "source": [
    "code_writer_system_message = \"\"\"\n",
    "Please provide Python or shell script solutions to solve the user's tasks, which the user can execute by simply running the code. Each solution should be placed inside a code block with the first line reserved for a comment including the filename. Do not ask the user to modify the code or copy and paste results; instead, use the `print` function for output when relevant.\n",
    "1. Gather information: Write a script that outputs necessary information such as browsing/searching the web, downloading/reading a file, printing the content of a webpage or file, getting the current date/time, or checking the operating system. After displaying sufficient information to solve the task based on language skills, you may stop the code and solve the remaining task yourself. \n",
    "2. Perform a task: Write an executable script to solve the given task and output the result. If necessary, break down the problem into steps with clear explanations of which steps involve coding and which steps require language skills. Do not ask the user to modify the code or provide feedback; the code should be ready for execution.\n",
    "3. When writing an executable script, always begin with a code block and do not use escape characters or leading spaces if not required.\n",
    "Please provide one code block per response to allow the user to easily execute each solution.\n",
    "Here are some examples of a code block with a filename comment:\n",
    "```python\n",
    "# filename: script_one.py\n",
    "print(\"Hello, World!\")\n",
    "```\n",
    "```sh\n",
    "# filename: script_two.sh\n",
    "printf \"Hello, World!\"\n",
    "```\n",
    "\"\"\"\n",
    "\n",
    "\n",
    "\n",
    "code_writer_agent = ConversableAgent(\n",
    "    name=\"code_writer_agent\",\n",
    "    system_message=code_writer_system_message,\n",
    "    llm_config={\"config_list\": config_list, \"cache_seed\": None, \"temperature\":0.0, \"seed\": 52},\n",
    "    code_execution_config=False, # turn off code execution for this agent\n",
    "    max_consecutive_auto_reply=2,\n",
    "    human_input_mode=\"NEVER\",\n",
    ")"
   ]
  },
  {
   "cell_type": "code",
   "execution_count": 26,
   "metadata": {},
   "outputs": [
    {
     "name": "stdout",
     "output_type": "stream",
     "text": [
      "\u001b[33mcode_executor_agent\u001b[0m (to code_writer_agent):\n",
      "\n",
      "Write Python code to perform 3 class logistic regression on the iris dataset using sklearn. Create a plot to show outcomes and on the same figure plot the decision boundaries of the classifier,  the datapoints are colored according to their labels.\n",
      "\n",
      "--------------------------------------------------------------------------------\n",
      "\u001b[33mcode_writer_agent\u001b[0m (to code_executor_agent):\n",
      "\n",
      "# filename: iris_logistic_regression.py\n",
      "\n",
      "```Python\n",
      "import numpy as np\n",
      "import matplotlib.pyplot as plt\n",
      "from sklearn.datasets import load_iris\n",
      "from sklearn.model_selection import train_test_split\n",
      "from sklearn.linear_model import LogisticRegression\n",
      "from sklearn.metrics import accuracy_score, classification_report, confusion_matrix\n",
      "\n",
      "# Load the iris dataset\n",
      "iris = load_iris()\n",
      "X = iris.data[:, :2]  # we only take the first two features.\n",
      "y = iris.target\n",
      "\n",
      "# Train/Test Split\n",
      "X_train, X_test, y_train, y_test = train_test_split(X, y, test_size=0.5, random_state=42)\n",
      "\n",
      "# Logistic Regression\n",
      "logreg = LogisticRegression(max_iter=10000)\n",
      "logreg.fit(X_train, y_train)\n",
      "\n",
      "# Predictions\n",
      "y_pred = logreg.predict(X_test)\n",
      "\n",
      "# Accuracy\n",
      "accuracy = accuracy_score(y_test, y_pred)\n",
      "print(\"Accuracy:\", accuracy)\n",
      "\n",
      "# Classification Report\n",
      "report = classification_report(y_test, y_pred)\n",
      "print(\"Classification Report:\\n\", report)\n",
      "\n",
      "# Confusion Matrix\n",
      "matrix = confusion_matrix(y_test, y_pred)\n",
      "print(\"Confusion Matrix:\\n\", matrix)\n",
      "\n",
      "# Plot the data points\n",
      "plt.figure(figsize=(8, 6))\n",
      "plt.scatter(X_test[:, 0], X_test[:, 1], c=y_test, cmap='viridis')\n",
      "plt.xlabel('Sepal length (cm)')\n",
      "plt.ylabel('Sepal width (cm)')\n",
      "\n",
      "# Plot the decision boundaries\n",
      "x_min, x_max = X_test[:, 0].min() - 1, X_test[:, 0].max() + 1\n",
      "y_min, y_max = X_test[:, 1].min() - 1, X_test[:, 1].max() + 1\n",
      "\n",
      "xx, yy = np.meshgrid(np.arange(x_min, x_max), np.arange(y_min, y_max))\n",
      "Z = logreg.predict(np.c_[xx.ravel(), yy.ravel()])\n",
      "Z = Z.reshape(xx.shape)\n",
      "\n",
      "plt.contourf(xx, yy, Z, alpha=0.8)\n",
      "plt.colorbar(labelpad=10)\n",
      "\n",
      "plt.show()\n",
      "```\n",
      "\n",
      "This code will perform a 3-class logistic regression on the iris dataset using scikit-learn's `LogisticRegression` class. It then plots the data points colored according to their labels and also plots the decision boundaries of the classifier.\n",
      "\n",
      "--------------------------------------------------------------------------------\n",
      "\u001b[31m\n",
      ">>>>>>>> EXECUTING CODE BLOCK (inferred language is Python)...\u001b[0m\n",
      "\u001b[33mcode_executor_agent\u001b[0m (to code_writer_agent):\n",
      "\n",
      "exitcode: 1 (execution failed)\n",
      "Code output: Traceback (most recent call last):\n",
      "  File \"/Users/aneeshsathe/analysis_work/autogen/generated_code/tmp_code_4e5e19a073f5e1ceb8e1b6a9aa039117.py\", line 50, in <module>\n",
      "    plt.colorbar(labelpad=10)\n",
      "  File \"/Users/aneeshsathe/miniconda3/envs/pyautogen/lib/python3.10/site-packages/matplotlib/pyplot.py\", line 2341, in colorbar\n",
      "    ret = gcf().colorbar(mappable, cax=cax, ax=ax, **kwargs)\n",
      "  File \"/Users/aneeshsathe/miniconda3/envs/pyautogen/lib/python3.10/site-packages/matplotlib/figure.py\", line 1310, in colorbar\n",
      "    cb = cbar.Colorbar(cax, mappable, **{\n",
      "TypeError: Colorbar.__init__() got an unexpected keyword argument 'labelpad'\n",
      "Accuracy: 0.8133333333333334\n",
      "Classification Report:\n",
      "               precision    recall  f1-score   support\n",
      "\n",
      "           0       1.00      1.00      1.00        29\n",
      "           1       0.71      0.65      0.68        23\n",
      "           2       0.68      0.74      0.71        23\n",
      "\n",
      "    accuracy                           0.81        75\n",
      "   macro avg       0.80      0.80      0.80        75\n",
      "weighted avg       0.81      0.81      0.81        75\n",
      "\n",
      "Confusion Matrix:\n",
      " [[29  0  0]\n",
      " [ 0 15  8]\n",
      " [ 0  6 17]]\n",
      "\n",
      "\n",
      "--------------------------------------------------------------------------------\n",
      "\u001b[33mcode_writer_agent\u001b[0m (to code_executor_agent):\n",
      "\n",
      "The error message indicates that the `colorbar` function does not accept a `labelpad` keyword argument. This is because the `colorbar` function in matplotlib does not have a `labelpad` parameter.\n",
      "\n",
      "To fix this issue, you can remove the `plt.colorbar(labelpad=10)` line from your code. The colorbar will still be displayed, but it won't have any labels.\n",
      "\n",
      "Here's the corrected code:\n",
      "\n",
      "```Python\n",
      "# filename: iris_logistic_regression.py\n",
      "import numpy as np\n",
      "import matplotlib.pyplot as plt\n",
      "from sklearn.datasets import load_iris\n",
      "from sklearn.model_selection import train_test_split\n",
      "from sklearn.linear_model import LogisticRegression\n",
      "from sklearn.metrics import accuracy_score, classification_report, confusion_matrix\n",
      "\n",
      "# Load the iris dataset\n",
      "iris = load_iris()\n",
      "X = iris.data[:, :2]  # we only take the first two features.\n",
      "y = iris.target\n",
      "\n",
      "# Train/Test Split\n",
      "X_train, X_test, y_train, y_test = train_test_split(X, y, test_size=0.5, random_state=42)\n",
      "\n",
      "# Logistic Regression\n",
      "logreg = LogisticRegression(max_iter=10000)\n",
      "logreg.fit(X_train, y_train)\n",
      "\n",
      "# Predictions\n",
      "y_pred = logreg.predict(X_test)\n",
      "\n",
      "# Accuracy\n",
      "accuracy = accuracy_score(y_test, y_pred)\n",
      "print(\"Accuracy:\", accuracy)\n",
      "\n",
      "# Classification Report\n",
      "report = classification_report(y_test, y_pred)\n",
      "print(\"Classification Report:\\n\", report)\n",
      "\n",
      "# Confusion Matrix\n",
      "matrix = confusion_matrix(y_test, y_pred)\n",
      "print(\"Confusion Matrix:\\n\", matrix)\n",
      "\n",
      "# Plot the data points\n",
      "plt.figure(figsize=(8, 6))\n",
      "plt.scatter(X_test[:, 0], X_test[:, 1], c=y_test, cmap='viridis')\n",
      "plt.xlabel('Sepal length (cm)')\n",
      "plt.ylabel('Sepal width (cm)')\n",
      "\n",
      "# Plot the decision boundaries\n",
      "x_min, x_max = X_test[:, 0].min() - 1, X_test[:, 0].max() + 1\n",
      "y_min, y_max = X_test[:, 1].min() - 1, X_test[:, 1].max() + 1\n",
      "\n",
      "xx, yy = np.meshgrid(np.arange(x_min, x_max), np.arange(y_min, y_max))\n",
      "Z = logreg.predict(np.c_[xx.ravel(), yy.ravel()])\n",
      "Z = Z.reshape(xx.shape)\n",
      "\n",
      "plt.contourf(xx, yy, Z, alpha=0.8)\n",
      "plt.colorbar()\n",
      "\n",
      "plt.show()\n",
      "```\n",
      "\n",
      "This code will perform a 3-class logistic regression on the iris dataset using scikit-learn's `LogisticRegression` class. It then plots the data points colored according to their labels and also plots the decision boundaries of the classifier.\n",
      "\n",
      "--------------------------------------------------------------------------------\n",
      "\u001b[31m\n",
      ">>>>>>>> EXECUTING CODE BLOCK (inferred language is Python)...\u001b[0m\n",
      "\u001b[33mcode_executor_agent\u001b[0m (to code_writer_agent):\n",
      "\n",
      "exitcode: 0 (execution succeeded)\n",
      "Code output: Accuracy: 0.8133333333333334\n",
      "Classification Report:\n",
      "               precision    recall  f1-score   support\n",
      "\n",
      "           0       1.00      1.00      1.00        29\n",
      "           1       0.71      0.65      0.68        23\n",
      "           2       0.68      0.74      0.71        23\n",
      "\n",
      "    accuracy                           0.81        75\n",
      "   macro avg       0.80      0.80      0.80        75\n",
      "weighted avg       0.81      0.81      0.81        75\n",
      "\n",
      "Confusion Matrix:\n",
      " [[29  0  0]\n",
      " [ 0 15  8]\n",
      " [ 0  6 17]]\n",
      "Figure(800x600)\n",
      "\n",
      "\n",
      "--------------------------------------------------------------------------------\n"
     ]
    }
   ],
   "source": [
    "# Start the Chat!\n",
    "task = \"\"\"Write Python code to perform 3 class logistic regression on the iris dataset using sklearn. Create a plot to show outcomes and on the same figure plot the decision boundaries of the classifier,  the datapoints are colored according to their labels.\"\"\"\n",
    "\n",
    "chat_result = code_executor_agent.initiate_chat(\n",
    "        code_writer_agent,\n",
    "        message=task,\n",
    "        clear_history=True,\n",
    "    )\n",
    "\n",
    "\n"
   ]
  },
  {
   "cell_type": "code",
   "execution_count": 6,
   "metadata": {},
   "outputs": [
    {
     "data": {
      "image/png": "[encoded data removed]",
      "text/plain": [
       "<IPython.core.display.Image object>"
      ]
     },
     "execution_count": 6,
     "metadata": {},
     "output_type": "execute_result"
    }
   ],
   "source": [
    "from IPython.display import Image\n",
    "Image(filename=\"generated_code/logistic_reg_decision_boundaries.png\") \n"
   ]
  }
 ],
 "metadata": {
  "kernelspec": {
   "display_name": "pyautogen",
   "language": "python",
   "name": "python3"
  },
  "language_info": {
   "codemirror_mode": {
    "name": "ipython",
    "version": 3
   },
   "file_extension": ".py",
   "mimetype": "text/x-python",
   "name": "python",
   "nbconvert_exporter": "python",
   "pygments_lexer": "ipython3",
   "version": "3.10.13"
  }
 },
 "nbformat": 4,
 "nbformat_minor": 2
}
